{
 "cells": [
  {
   "cell_type": "markdown",
   "metadata": {
    "id": "LoO5PWes1rOS"
   },
   "source": [
    "# Using ML to fill in years of missing run data\n",
    "In this project I train and evaluate various regression techniques to fill in my missing running data that spans 6 years. I also bring in an outside data source to fill in missing weather data over the same time frame to give a more complete dataset that will make for some great visualizations in another project. "
   ]
  },
  {
   "cell_type": "markdown",
   "metadata": {},
   "source": [
    "## Data Read-in and Initial Exploration"
   ]
  },
  {
   "cell_type": "code",
   "execution_count": 21,
   "metadata": {
    "colab": {
     "base_uri": "https://localhost:8080/"
    },
    "executionInfo": {
     "elapsed": 21041,
     "status": "ok",
     "timestamp": 1693335629680,
     "user": {
      "displayName": "Chandler Underwood",
      "userId": "04279858581485547936"
     },
     "user_tz": 360
    },
    "id": "qQMI2SxQz3pm",
    "outputId": "6b0b9808-b2d9-4fb3-ba35-38d9569842b4"
   },
   "outputs": [],
   "source": [
    "import pandas as pd\n",
    "\n",
    "data_path = \"Activities 20\"\n",
    "df = pd.read_csv(data_path + \"17.csv\")\n",
    "for i in range (18,23):\n",
    "     df = pd.concat([df, pd.read_csv(data_path + str(i) + \".csv\")])\n",
    "df = df.reset_index().drop(columns = 'index')"
   ]
  },
  {
   "cell_type": "markdown",
   "metadata": {},
   "source": [
    "Below is a first look at my running data from college. Over the span of 6 years, I went for a run at least 1,975 times! "
   ]
  },
  {
   "cell_type": "code",
   "execution_count": 22,
   "metadata": {
    "colab": {
     "base_uri": "https://localhost:8080/",
     "height": 140
    },
    "executionInfo": {
     "elapsed": 17,
     "status": "ok",
     "timestamp": 1693335632982,
     "user": {
      "displayName": "Chandler Underwood",
      "userId": "04279858581485547936"
     },
     "user_tz": 360
    },
    "id": "qPq5nrCB0XDf",
    "outputId": "d05539be-e715-4f09-c3bc-e9df3f2e6014",
    "scrolled": true
   },
   "outputs": [],
   "source": [
    "#pd.set_option('display.max_columns', 40)\n",
    "#html_string = df.to_html(index = False, show_dimensions=True, justify = 'center', col_space='75px')\n",
    "#print(html_string)"
   ]
  },
  {
   "cell_type": "markdown",
   "metadata": {},
   "source": [
    "Let's see if there have any null values along with the data types we are working with."
   ]
  },
  {
   "cell_type": "code",
   "execution_count": 23,
   "metadata": {},
   "outputs": [
    {
     "name": "stdout",
     "output_type": "stream",
     "text": [
      "<class 'pandas.core.frame.DataFrame'>\n",
      "RangeIndex: 1975 entries, 0 to 1974\n",
      "Data columns (total 38 columns):\n",
      " #   Column                    Non-Null Count  Dtype  \n",
      "---  ------                    --------------  -----  \n",
      " 0   Activity Type             1975 non-null   object \n",
      " 1   Date                      1975 non-null   object \n",
      " 2   Favorite                  1975 non-null   bool   \n",
      " 3   Title                     1975 non-null   object \n",
      " 4   Distance                  1975 non-null   float64\n",
      " 5   Calories                  1975 non-null   object \n",
      " 6   Time                      1975 non-null   object \n",
      " 7   Avg HR                    1975 non-null   int64  \n",
      " 8   Max HR                    1975 non-null   int64  \n",
      " 9   Avg Run Cadence           1975 non-null   object \n",
      " 10  Max Run Cadence           1975 non-null   object \n",
      " 11  Avg Pace                  1975 non-null   object \n",
      " 12  Best Pace                 1975 non-null   object \n",
      " 13  Total Ascent              1975 non-null   object \n",
      " 14  Total Descent             1975 non-null   object \n",
      " 15  Avg Stride Length         1975 non-null   float64\n",
      " 16  Avg Vertical Ratio        1975 non-null   float64\n",
      " 17  Avg Vertical Oscillation  1975 non-null   float64\n",
      " 18  Avg Ground Contact Time   1975 non-null   int64  \n",
      " 19  Training Stress Score®    1975 non-null   float64\n",
      " 20  Avg Power                 1975 non-null   int64  \n",
      " 21  Max Power                 1975 non-null   int64  \n",
      " 22  Grit                      1975 non-null   float64\n",
      " 23  Flow                      1975 non-null   float64\n",
      " 24  Avg. Swolf                1975 non-null   int64  \n",
      " 25  Avg Stroke Rate           1975 non-null   int64  \n",
      " 26  Total Reps                1975 non-null   int64  \n",
      " 27  Dive Time                 1975 non-null   object \n",
      " 28  Min Temp                  1975 non-null   float64\n",
      " 29  Surface Interval          1975 non-null   object \n",
      " 30  Decompression             1975 non-null   object \n",
      " 31  Best Lap Time             1975 non-null   object \n",
      " 32  Number of Laps            1975 non-null   object \n",
      " 33  Max Temp                  1975 non-null   float64\n",
      " 34  Moving Time               1975 non-null   object \n",
      " 35  Elapsed Time              1975 non-null   object \n",
      " 36  Min Elevation             1975 non-null   object \n",
      " 37  Max Elevation             1975 non-null   object \n",
      "dtypes: bool(1), float64(9), int64(8), object(20)\n",
      "memory usage: 573.0+ KB\n"
     ]
    }
   ],
   "source": [
    "df.info()"
   ]
  },
  {
   "cell_type": "markdown",
   "metadata": {},
   "source": [
    "As you may have guessed, after reading Garmin's documentation, many of the data's attributes are not useful to us as they are not metrics taken for runs such as *Max Power* (a cycling metric) and *Avg Stroke Rate* (a swimming metric). In the cleanup and feature engineering section, we'll drop those and many others that aren't helpful for understanding my running performances. \n",
    "\n",
    "This first issue with this dataset is that the *Avg HR* and *Max HR* columns are populated with some zeros (see table), and I assure you that my heart was beating faster than that! The *Max Temp* and *Min Temp* columns also contain some zeroes. This is because I didn't have a fancy watch in the beginning of college that logged those metrics. Because of this, we can assume that the 0's populating those four columns are actucally NULL values. Many of our columns that contain numerical data instead contain strings such as *Min Elevation*, so we are going to fix that in the next section too. "
   ]
  },
  {
   "cell_type": "markdown",
   "metadata": {
    "id": "6udtVo4j1NbL"
   },
   "source": [
    "## Data Cleaning and Feature Engineering\n",
    "\n",
    "First thing we need to do is drop those extrenious columns and correct the datatypes for our remaining columns. "
   ]
  },
  {
   "cell_type": "code",
   "execution_count": 24,
   "metadata": {
    "executionInfo": {
     "elapsed": 23,
     "status": "ok",
     "timestamp": 1693335633327,
     "user": {
      "displayName": "Chandler Underwood",
      "userId": "04279858581485547936"
     },
     "user_tz": 360
    },
    "id": "ycRy-APj2mip"
   },
   "outputs": [],
   "source": [
    "import numpy as np\n",
    "\n",
    "#Drop extranious columns\n",
    "cols_to_keep = ['Date', 'Title', 'Time', 'Avg Pace', 'Best Pace', 'Distance',\n",
    "       'Calories', 'Avg HR', 'Max HR', 'Avg Run Cadence',\n",
    "       'Max Run Cadence', 'Total Ascent',\n",
    "       'Total Descent', 'Avg Stride Length', 'Min Temp', 'Max Temp', 'Min Elevation',\n",
    "       'Max Elevation']\n",
    "\n",
    "df = df[cols_to_keep]\n",
    "\n",
    "#Replace missing values with NaN for easy pandas manipulation\n",
    "df = df.replace('--', np.nan)  #String Garmin uses in place of NaN\n",
    "df = df.replace(0.0, np.nan)\n",
    "df = df.replace(0, np.nan)\n",
    "\n",
    "#Remove commas so we can convert these columns to numerical data\n",
    "cols_to_clean = ['Calories', 'Total Ascent', 'Total Descent', 'Min Elevation', 'Max Elevation']\n",
    "df[cols_to_clean] = df[cols_to_clean].replace({',':''}, regex=True)\n",
    "\n",
    "#Conversion of columns to floats for use in models\n",
    "def float_convert(col):\n",
    "    df[col] = df[col].astype(float)\n",
    "\n",
    "float_convert(cols_to_keep[5:])"
   ]
  },
  {
   "cell_type": "markdown",
   "metadata": {},
   "source": [
    "There are a few important columns that are written in a time format that is useful for humans but not machines. Let's engineer some new features using them. "
   ]
  },
  {
   "cell_type": "code",
   "execution_count": 25,
   "metadata": {
    "executionInfo": {
     "elapsed": 15,
     "status": "ok",
     "timestamp": 1693335633328,
     "user": {
      "displayName": "Chandler Underwood",
      "userId": "04279858581485547936"
     },
     "user_tz": 360
    },
    "id": "9APEKP5yfmMe",
    "scrolled": false
   },
   "outputs": [],
   "source": [
    "#Drop rows we don't have pacing data for\n",
    "df = df[df['Avg Pace'].notna()]\n",
    "df = df[df['Best Pace'].notna()]\n",
    "\n",
    "#Convert values to float representing an equal amount of time in minutes\n",
    "df['Total Run Time'] = [60 * float(x.split(':')[0]) + float(x.split(':')[1]) + (float(x.split(':')[2].split('.')[0])/60) for x in df['Time']]\n",
    "df.drop(columns = 'Time', inplace = True)\n",
    "df['Avg Pace'] = [float(x.split(':')[0]) + float(x.split(':')[1]) / 60 for x in df['Avg Pace']]\n",
    "df['Best Pace'] = [float(x.split(':')[0]) + float(x.split(':')[1]) / 60 for x in df['Best Pace']]\n",
    "\n",
    "#My college running days ended on the date below\n",
    "df['Date'] = pd.to_datetime(pd.to_datetime(df['Date']).dt.strftime('%Y-%m-%d'))\n",
    "df = df[df['Date'] < np.datetime64(\"2022-05-15\")]"
   ]
  },
  {
   "cell_type": "code",
   "execution_count": 26,
   "metadata": {
    "scrolled": false
   },
   "outputs": [
    {
     "name": "stdout",
     "output_type": "stream",
     "text": [
      "<class 'pandas.core.frame.DataFrame'>\n",
      "Int64Index: 1883 entries, 0 to 1974\n",
      "Data columns (total 18 columns):\n",
      " #   Column             Non-Null Count  Dtype         \n",
      "---  ------             --------------  -----         \n",
      " 0   Date               1883 non-null   datetime64[ns]\n",
      " 1   Title              1883 non-null   object        \n",
      " 2   Avg Pace           1883 non-null   float64       \n",
      " 3   Best Pace          1883 non-null   float64       \n",
      " 4   Distance           1883 non-null   float64       \n",
      " 5   Calories           1883 non-null   float64       \n",
      " 6   Avg HR             607 non-null    float64       \n",
      " 7   Max HR             607 non-null    float64       \n",
      " 8   Avg Run Cadence    1883 non-null   float64       \n",
      " 9   Max Run Cadence    1883 non-null   float64       \n",
      " 10  Total Ascent       1855 non-null   float64       \n",
      " 11  Total Descent      1861 non-null   float64       \n",
      " 12  Avg Stride Length  1883 non-null   float64       \n",
      " 13  Min Temp           607 non-null    float64       \n",
      " 14  Max Temp           607 non-null    float64       \n",
      " 15  Min Elevation      1875 non-null   float64       \n",
      " 16  Max Elevation      1880 non-null   float64       \n",
      " 17  Total Run Time     1883 non-null   float64       \n",
      "dtypes: datetime64[ns](1), float64(16), object(1)\n",
      "memory usage: 279.5+ KB\n"
     ]
    }
   ],
   "source": [
    "df.info()"
   ]
  },
  {
   "cell_type": "markdown",
   "metadata": {},
   "source": [
    "Over half of the values in the *Avg HR*, *Max HR*, *Min Temp* and *Max Temp* columns are NULL. Remember, I'm doing this, so I can get a better understanding of trends in my running data over the years I ran in college. I wan't to create come visualizations with this data in the future, and all these values are important in getting a \"big picture\" look at my runnning trends. To fill in the missing data, we have four options: \n",
    "\n",
    "1. Drop the rows that are missing data. \n",
    "2. Fill NULL rows with some sort of common value (oftentimes the median of the column in question).\n",
    "3. Bring in an outside data source.\n",
    "4. Create a predictive model. \n",
    "\n",
    "Option 1 is not going to work here as that would eliminate half my data. Option 2 works OK for the columns that are missing only a few features, but it would definitely take away from the richness of the data and make for some boring / unhelpful visualizations if we used it for all the missing values in the dataset. But, option 3 can work great for filling in the tempurature data as it is easy to find weather data, and option 4 is the way to go for fixing the HR data!"
   ]
  },
  {
   "cell_type": "code",
   "execution_count": 27,
   "metadata": {},
   "outputs": [],
   "source": [
    "#Using Option 1 to infill missing data \n",
    "cols_with_few_nan = ['Total Ascent', 'Total Descent','Min Elevation', 'Max Elevation']\n",
    "df[cols_with_few_nan] = df[cols_with_few_nan].fillna(df[cols_with_few_nan].median())"
   ]
  },
  {
   "cell_type": "markdown",
   "metadata": {},
   "source": [
    "## Bringing in Some Outside Help\n",
    "\n",
    "Unfortunately, Garmin uses a somewhat cryptic system to log the location of runs. It usually titles each activity as either the county or city name plus \"Running\" with no geolocation data to go along with it. To help us get started, let's look at where my runs occured that are missing tempurature data."
   ]
  },
  {
   "cell_type": "code",
   "execution_count": 28,
   "metadata": {
    "colab": {
     "base_uri": "https://localhost:8080/"
    },
    "executionInfo": {
     "elapsed": 62,
     "status": "ok",
     "timestamp": 1691965904323,
     "user": {
      "displayName": "Chandler Underwood",
      "userId": "04279858581485547936"
     },
     "user_tz": 360
    },
    "id": "0AdNV-FYGKYa",
    "outputId": "3ca869be-5482-4da5-856f-484b923a9d37",
    "scrolled": true
   },
   "outputs": [
    {
     "data": {
      "text/plain": [
       "[('Oktibbeha County Running', 349),\n",
       " ('Starkville Running', 245),\n",
       " ('Flowood Running', 127),\n",
       " ('Jackson County Running', 120),\n",
       " ('Moss Point Running', 64),\n",
       " ('Mobile County Running', 50),\n",
       " ('Boulder County Running', 43),\n",
       " ('Lucedale Running', 31),\n",
       " ('Oktibbeha County - Running', 21),\n",
       " ('Boulder Running', 21)]"
      ]
     },
     "execution_count": 28,
     "metadata": {},
     "output_type": "execute_result"
    }
   ],
   "source": [
    "from collections import Counter\n",
    "\n",
    "run_locations = Counter(df[df['Min Temp'].isna()]['Title'])\n",
    "sorted(run_locations.items(), key=lambda x:x[1], reverse = True)[:10]"
   ]
  },
  {
   "cell_type": "markdown",
   "metadata": {
    "id": "mcrgooIvE1A-"
   },
   "source": [
    "Despite differing titles, the the vast majority of these samples occur either in my old college town of Starkville, MS or very close to it, and nearly all the rest occur somewhere in Mississippi or in the South. Because we don't have a way to convert these titles to a more specific location without getting really messy, I believe it will suffice to use weather data for Starkville, MS as a proxy for all the missing values we have. "
   ]
  },
  {
   "cell_type": "code",
   "execution_count": 29,
   "metadata": {
    "scrolled": false
   },
   "outputs": [],
   "source": [
    "df_weather = pd.read_csv(\"Weather Data.csv\")\n",
    "df_weather = df_weather[['NAME','DATE','TMAX','TMIN']].reset_index()\n",
    "df_weather.drop(columns = 'index', inplace = True)\n",
    "\n",
    "df_weather['Date'] = pd.to_datetime(df_weather['DATE'])\n",
    "df_weather['Min Temp'] = df_weather['TMIN']\n",
    "df_weather['Max Temp'] = df_weather['TMAX']\n",
    "\n",
    "#Dataset contains weather reports from several locations surrounding Starkville, so we can group them together. \n",
    "df_weather = df_weather[['Date', 'Min Temp', 'Max Temp']].groupby(by = ['Date']).mean()\n",
    "\n",
    "#Perform inner join, giving us a 1:1 ratio of dates to tempuratures\n",
    "df = df.drop(columns = ['Min Temp', 'Max Temp']).merge(df_weather, on = 'Date', how = 'inner')\n",
    "\n",
    "#Infill any remaining missing tempurature values with the median\n",
    "cols_with_few_nan = ['Min Temp', 'Max Temp']\n",
    "df[cols_with_few_nan] = df[cols_with_few_nan].fillna(df[cols_with_few_nan].median())"
   ]
  },
  {
   "cell_type": "markdown",
   "metadata": {},
   "source": [
    "There you have it, our filled in tempurature data. Now, we need to build a model(s) that can effectively populate the missing values in our Max HR and Avg HR columns."
   ]
  },
  {
   "cell_type": "markdown",
   "metadata": {},
   "source": [
    "## Fitting a model to fill-in our missing data\n",
    "Let's train and evaluate some regression models to fill in all that missing heart rate data! In the end we will have built two models, one to predict the *Avg HR* columns and another to predict *Max HR*."
   ]
  },
  {
   "cell_type": "code",
   "execution_count": 30,
   "metadata": {
    "executionInfo": {
     "elapsed": 23,
     "status": "ok",
     "timestamp": 1693335634340,
     "user": {
      "displayName": "Chandler Underwood",
      "userId": "04279858581485547936"
     },
     "user_tz": 360
    },
    "id": "TNfmlCuwn7YJ"
   },
   "outputs": [],
   "source": [
    "#Select subset of data with no missing values for training\n",
    "df_train = df.dropna()\n",
    "\n",
    "#Training features\n",
    "X_train = df_train[['Avg Pace', 'Best Pace', 'Distance', 'Calories',\n",
    "       'Avg Run Cadence', 'Max Run Cadence',\n",
    "       'Total Ascent', 'Total Descent', 'Avg Stride Length', 'Min Elevation',\n",
    "       'Max Elevation', 'Total Run Time', 'Min Temp', 'Max Temp']]\n",
    "\n",
    "\n",
    "y_avg = df_train['Avg HR']\n",
    "y_max = df_train['Max HR']"
   ]
  },
  {
   "cell_type": "markdown",
   "metadata": {},
   "source": [
    "Becuase of my running domain knowledge, I have an idea of what features will be usefull for predicting the *Max HR* and *Avg HR* columns of our data, but I'm a fan of letting scikit-learn do that for me! Let's select the best 7 features. "
   ]
  },
  {
   "cell_type": "code",
   "execution_count": 31,
   "metadata": {
    "colab": {
     "base_uri": "https://localhost:8080/"
    },
    "executionInfo": {
     "elapsed": 22,
     "status": "ok",
     "timestamp": 1693335634340,
     "user": {
      "displayName": "Chandler Underwood",
      "userId": "04279858581485547936"
     },
     "user_tz": 360
    },
    "id": "f1nSmf-9oiqk",
    "outputId": "6b4836cb-815e-499e-cf2f-bed9ab56faa5"
   },
   "outputs": [
    {
     "data": {
      "text/plain": [
       "((607, 5), (607, 5))"
      ]
     },
     "execution_count": 31,
     "metadata": {},
     "output_type": "execute_result"
    }
   ],
   "source": [
    "from sklearn.feature_selection import SelectKBest, f_regression\n",
    "\n",
    "#The best features to predict Avg HR are not necessarily the best to predict Max HR\n",
    "kb_average = SelectKBest(f_regression, k=5).fit(X_train, y_avg)\n",
    "kb_max = SelectKBest(f_regression, k=5).fit(X_train, y_max)\n",
    "\n",
    "X_avg = kb_average.transform(X_train)\n",
    "X_max = kb_max.transform(X_train)\n",
    "X_avg.shape, X_max.shape"
   ]
  },
  {
   "cell_type": "markdown",
   "metadata": {},
   "source": [
    "Now we can use those extracted features to train several regression models and evaluate using cross validation to pick the best one for our two prediction tasks."
   ]
  },
  {
   "cell_type": "code",
   "execution_count": 33,
   "metadata": {
    "executionInfo": {
     "elapsed": 18,
     "status": "ok",
     "timestamp": 1693335634341,
     "user": {
      "displayName": "Chandler Underwood",
      "userId": "04279858581485547936"
     },
     "user_tz": 360
    },
    "id": "kmyvUZBgSdJB",
    "scrolled": false
   },
   "outputs": [
    {
     "name": "stdout",
     "output_type": "stream",
     "text": [
      "\n",
      "############################\n",
      " HR Avg\n",
      "\n",
      "Model:  Lasso Regression\n",
      "Test Mean Absolute Error:  -3.4721680220384203 \n",
      "Test Mean Sqaured Error:  -21.528693269323934\n",
      "\n",
      "Model:  Linear Regression\n",
      "Test Mean Absolute Error:  -3.4965374931940674 \n",
      "Test Mean Sqaured Error:  -21.794449648893643\n",
      "\n",
      "Model:  SVR\n",
      "Test Mean Absolute Error:  -6.503686070502235 \n",
      "Test Mean Sqaured Error:  -64.17778768337854\n",
      "\n",
      "Model:  RF Regressor\n",
      "Test Mean Absolute Error:  -3.673632631707016 \n",
      "Test Mean Sqaured Error:  -22.79153273271866\n",
      "\n",
      "############################\n",
      " HR Max\n",
      "\n",
      "Model:  Lasso Regression\n",
      "Test Mean Absolute Error:  -6.310069863144789 \n",
      "Test Mean Sqaured Error:  -67.01035553775584\n",
      "\n",
      "Model:  Linear Regression\n",
      "Test Mean Absolute Error:  -6.332889188711009 \n",
      "Test Mean Sqaured Error:  -67.28914455377931\n",
      "\n",
      "Model:  SVR\n",
      "Test Mean Absolute Error:  -7.571264852476413 \n",
      "Test Mean Sqaured Error:  -91.18257365781352\n",
      "\n",
      "Model:  RF Regressor\n",
      "Test Mean Absolute Error:  -5.725990929185303 \n",
      "Test Mean Sqaured Error:  -57.40585569436307\n"
     ]
    }
   ],
   "source": [
    "from sklearn.preprocessing import StandardScaler\n",
    "from sklearn.model_selection import cross_validate\n",
    "from sklearn.ensemble import RandomForestRegressor\n",
    "from sklearn.linear_model import LinearRegression, Ridge, Lasso\n",
    "from sklearn import linear_model\n",
    "from sklearn.metrics import make_scorer,mean_squared_error\n",
    "from sklearn.svm import SVR\n",
    "import statistics\n",
    "\n",
    "def cv(model, X, y, model_name):\n",
    "    score = cross_validate(model, X, y, cv=5, scoring=('neg_mean_absolute_error', 'neg_mean_squared_error'))\n",
    "    print(\"\\nModel: \", model_name)\n",
    "    print(\"Test Mean Absolute Error: \", statistics.mean(score['test_neg_mean_absolute_error']), \n",
    "          \"\\nTest Mean Sqaured Error: \", statistics.mean(score['test_neg_mean_squared_error']))\n",
    "\n",
    "lasso = linear_model.Lasso(alpha = 0.1)\n",
    "reg = LinearRegression()\n",
    "regr = SVR(C=1.0, epsilon=0.2)\n",
    "rfr = RandomForestRegressor(max_depth=10)\n",
    "\n",
    "data_list = [(X_avg, y_avg, \"HR Avg\"), (X_max, y_max, \"HR Max\")]\n",
    "model_dict = {\"Lasso Regression\":lasso, \"Linear Regression\":reg, \"SVR\":regr, \"RF Regressor\":rfr}\n",
    "\n",
    "for data in data_list:\n",
    "    print('\\n############################\\n',data[2])\n",
    "    for model in model_dict.keys():\n",
    "        cv(model_dict[model], data[0], data[1], model)"
   ]
  },
  {
   "cell_type": "markdown",
   "metadata": {},
   "source": [
    "Lasso regression is the best model for predicting the Average Heart Rate of my runs while Random Forest Regressor is the best at predicting the Max Heart Rate.  "
   ]
  },
  {
   "cell_type": "markdown",
   "metadata": {},
   "source": [
    "## Fit models and Visualize Performance\n",
    "Let's fit the best performing models using their entire respective training sets and visualize their performance using scatterplots."
   ]
  },
  {
   "cell_type": "code",
   "execution_count": 34,
   "metadata": {},
   "outputs": [
    {
     "data": {
      "text/plain": [
       "(<AxesSubplot:xlabel='Avg HR'>,)"
      ]
     },
     "execution_count": 34,
     "metadata": {},
     "output_type": "execute_result"
    },
    {
     "data": {
      "image/png": "[encoded data removed]",
      "text/plain": [
       "<Figure size 432x288 with 1 Axes>"
      ]
     },
     "metadata": {
      "needs_background": "light"
     },
     "output_type": "display_data"
    }
   ],
   "source": [
    "lasso_avg = linear_model.Lasso(alpha = 0.1)\n",
    "lasso_avg.fit(X_avg, y_avg)\n",
    "\n",
    "rfr_max = RandomForestRegressor(max_depth=10)\n",
    "rfr_max.fit(X_max, y_max)\n",
    "\n",
    "import seaborn as sns\n",
    "sns.scatterplot(x = y_avg, y = lasso_avg.predict(X_avg)),"
   ]
  },
  {
   "cell_type": "code",
   "execution_count": 35,
   "metadata": {},
   "outputs": [
    {
     "data": {
      "text/plain": [
       "<AxesSubplot:xlabel='Max HR'>"
      ]
     },
     "execution_count": 35,
     "metadata": {},
     "output_type": "execute_result"
    },
    {
     "data": {
      "image/png": "[encoded data removed]",
      "text/plain": [
       "<Figure size 432x288 with 1 Axes>"
      ]
     },
     "metadata": {
      "needs_background": "light"
     },
     "output_type": "display_data"
    }
   ],
   "source": [
    "sns.scatterplot(x = y_max, y = rfr_max.predict(X_max))"
   ]
  },
  {
   "cell_type": "code",
   "execution_count": 36,
   "metadata": {},
   "outputs": [
    {
     "name": "stderr",
     "output_type": "stream",
     "text": [
      "C:\\Users\\cu81\\anaconda3\\lib\\site-packages\\sklearn\\base.py:464: UserWarning: X does not have valid feature names, but SelectKBest was fitted with feature names\n",
      "  warnings.warn(\n",
      "C:\\Users\\cu81\\anaconda3\\lib\\site-packages\\sklearn\\base.py:464: UserWarning: X does not have valid feature names, but SelectKBest was fitted with feature names\n",
      "  warnings.warn(\n"
     ]
    },
    {
     "data": {
      "text/html": [
       "<div>\n",
       "<style scoped>\n",
       "    .dataframe tbody tr th:only-of-type {\n",
       "        vertical-align: middle;\n",
       "    }\n",
       "\n",
       "    .dataframe tbody tr th {\n",
       "        vertical-align: top;\n",
       "    }\n",
       "\n",
       "    .dataframe thead th {\n",
       "        text-align: right;\n",
       "    }\n",
       "</style>\n",
       "<table border=\"1\" class=\"dataframe\">\n",
       "  <thead>\n",
       "    <tr style=\"text-align: right;\">\n",
       "      <th></th>\n",
       "      <th>Date</th>\n",
       "      <th>Title</th>\n",
       "      <th>Avg Pace</th>\n",
       "      <th>Best Pace</th>\n",
       "      <th>Distance</th>\n",
       "      <th>Calories</th>\n",
       "      <th>Avg HR</th>\n",
       "      <th>Max HR</th>\n",
       "      <th>Avg Run Cadence</th>\n",
       "      <th>Max Run Cadence</th>\n",
       "      <th>Total Ascent</th>\n",
       "      <th>Total Descent</th>\n",
       "      <th>Avg Stride Length</th>\n",
       "      <th>Min Elevation</th>\n",
       "      <th>Max Elevation</th>\n",
       "      <th>Total Run Time</th>\n",
       "      <th>Min Temp</th>\n",
       "      <th>Max Temp</th>\n",
       "    </tr>\n",
       "  </thead>\n",
       "  <tbody>\n",
       "    <tr>\n",
       "      <th>0</th>\n",
       "      <td>2017-12-31</td>\n",
       "      <td>Sevierville Running</td>\n",
       "      <td>6.566667</td>\n",
       "      <td>5.983333</td>\n",
       "      <td>13.62</td>\n",
       "      <td>1462.0</td>\n",
       "      <td>179.348833</td>\n",
       "      <td>175.102791</td>\n",
       "      <td>175.0</td>\n",
       "      <td>187.0</td>\n",
       "      <td>381.0</td>\n",
       "      <td>425.0</td>\n",
       "      <td>1.40</td>\n",
       "      <td>958.0</td>\n",
       "      <td>1181.0</td>\n",
       "      <td>89.516667</td>\n",
       "      <td>22.0</td>\n",
       "      <td>46.0</td>\n",
       "    </tr>\n",
       "    <tr>\n",
       "      <th>1</th>\n",
       "      <td>2017-12-30</td>\n",
       "      <td>Sevierville Running</td>\n",
       "      <td>7.100000</td>\n",
       "      <td>6.533333</td>\n",
       "      <td>5.83</td>\n",
       "      <td>631.0</td>\n",
       "      <td>151.453714</td>\n",
       "      <td>169.677584</td>\n",
       "      <td>176.0</td>\n",
       "      <td>191.0</td>\n",
       "      <td>169.0</td>\n",
       "      <td>9.0</td>\n",
       "      <td>1.29</td>\n",
       "      <td>1001.0</td>\n",
       "      <td>1174.0</td>\n",
       "      <td>41.383333</td>\n",
       "      <td>27.0</td>\n",
       "      <td>49.0</td>\n",
       "    </tr>\n",
       "    <tr>\n",
       "      <th>2</th>\n",
       "      <td>2017-12-29</td>\n",
       "      <td>Sevierville Running</td>\n",
       "      <td>6.166667</td>\n",
       "      <td>5.350000</td>\n",
       "      <td>8.22</td>\n",
       "      <td>881.0</td>\n",
       "      <td>163.870123</td>\n",
       "      <td>174.252760</td>\n",
       "      <td>176.0</td>\n",
       "      <td>191.0</td>\n",
       "      <td>285.0</td>\n",
       "      <td>184.0</td>\n",
       "      <td>1.47</td>\n",
       "      <td>968.0</td>\n",
       "      <td>1167.0</td>\n",
       "      <td>50.750000</td>\n",
       "      <td>28.0</td>\n",
       "      <td>44.0</td>\n",
       "    </tr>\n",
       "    <tr>\n",
       "      <th>3</th>\n",
       "      <td>2017-12-29</td>\n",
       "      <td>Sevierville Running</td>\n",
       "      <td>6.950000</td>\n",
       "      <td>6.316667</td>\n",
       "      <td>1.97</td>\n",
       "      <td>209.0</td>\n",
       "      <td>139.974450</td>\n",
       "      <td>165.737706</td>\n",
       "      <td>174.0</td>\n",
       "      <td>191.0</td>\n",
       "      <td>48.0</td>\n",
       "      <td>181.0</td>\n",
       "      <td>1.34</td>\n",
       "      <td>1028.0</td>\n",
       "      <td>1178.0</td>\n",
       "      <td>13.700000</td>\n",
       "      <td>28.0</td>\n",
       "      <td>44.0</td>\n",
       "    </tr>\n",
       "    <tr>\n",
       "      <th>4</th>\n",
       "      <td>2017-12-28</td>\n",
       "      <td>Moss Point Running</td>\n",
       "      <td>7.066667</td>\n",
       "      <td>6.383333</td>\n",
       "      <td>7.37</td>\n",
       "      <td>797.0</td>\n",
       "      <td>156.137539</td>\n",
       "      <td>170.186633</td>\n",
       "      <td>173.0</td>\n",
       "      <td>185.0</td>\n",
       "      <td>182.0</td>\n",
       "      <td>195.0</td>\n",
       "      <td>1.32</td>\n",
       "      <td>64.0</td>\n",
       "      <td>135.0</td>\n",
       "      <td>52.066667</td>\n",
       "      <td>25.0</td>\n",
       "      <td>42.0</td>\n",
       "    </tr>\n",
       "    <tr>\n",
       "      <th>...</th>\n",
       "      <td>...</td>\n",
       "      <td>...</td>\n",
       "      <td>...</td>\n",
       "      <td>...</td>\n",
       "      <td>...</td>\n",
       "      <td>...</td>\n",
       "      <td>...</td>\n",
       "      <td>...</td>\n",
       "      <td>...</td>\n",
       "      <td>...</td>\n",
       "      <td>...</td>\n",
       "      <td>...</td>\n",
       "      <td>...</td>\n",
       "      <td>...</td>\n",
       "      <td>...</td>\n",
       "      <td>...</td>\n",
       "      <td>...</td>\n",
       "      <td>...</td>\n",
       "    </tr>\n",
       "    <tr>\n",
       "      <th>1878</th>\n",
       "      <td>2022-01-05</td>\n",
       "      <td>Starkville Running</td>\n",
       "      <td>6.950000</td>\n",
       "      <td>6.316667</td>\n",
       "      <td>11.50</td>\n",
       "      <td>1014.0</td>\n",
       "      <td>147.000000</td>\n",
       "      <td>163.000000</td>\n",
       "      <td>178.0</td>\n",
       "      <td>201.0</td>\n",
       "      <td>420.0</td>\n",
       "      <td>404.0</td>\n",
       "      <td>1.30</td>\n",
       "      <td>223.0</td>\n",
       "      <td>402.0</td>\n",
       "      <td>79.966667</td>\n",
       "      <td>33.0</td>\n",
       "      <td>55.0</td>\n",
       "    </tr>\n",
       "    <tr>\n",
       "      <th>1879</th>\n",
       "      <td>2022-01-04</td>\n",
       "      <td>Noxubee County Running</td>\n",
       "      <td>6.166667</td>\n",
       "      <td>4.483333</td>\n",
       "      <td>11.01</td>\n",
       "      <td>851.0</td>\n",
       "      <td>145.000000</td>\n",
       "      <td>169.000000</td>\n",
       "      <td>183.0</td>\n",
       "      <td>232.0</td>\n",
       "      <td>289.0</td>\n",
       "      <td>246.0</td>\n",
       "      <td>1.42</td>\n",
       "      <td>130.0</td>\n",
       "      <td>201.0</td>\n",
       "      <td>67.800000</td>\n",
       "      <td>30.0</td>\n",
       "      <td>40.5</td>\n",
       "    </tr>\n",
       "    <tr>\n",
       "      <th>1880</th>\n",
       "      <td>2022-01-03</td>\n",
       "      <td>Starkville Running</td>\n",
       "      <td>6.866667</td>\n",
       "      <td>5.650000</td>\n",
       "      <td>15.01</td>\n",
       "      <td>1349.0</td>\n",
       "      <td>148.000000</td>\n",
       "      <td>171.000000</td>\n",
       "      <td>179.0</td>\n",
       "      <td>190.0</td>\n",
       "      <td>807.0</td>\n",
       "      <td>774.0</td>\n",
       "      <td>1.31</td>\n",
       "      <td>89.0</td>\n",
       "      <td>243.0</td>\n",
       "      <td>103.116667</td>\n",
       "      <td>29.5</td>\n",
       "      <td>51.0</td>\n",
       "    </tr>\n",
       "    <tr>\n",
       "      <th>1881</th>\n",
       "      <td>2022-01-02</td>\n",
       "      <td>Leon County Running</td>\n",
       "      <td>7.050000</td>\n",
       "      <td>5.716667</td>\n",
       "      <td>8.01</td>\n",
       "      <td>688.0</td>\n",
       "      <td>141.000000</td>\n",
       "      <td>156.000000</td>\n",
       "      <td>177.0</td>\n",
       "      <td>188.0</td>\n",
       "      <td>810.0</td>\n",
       "      <td>978.0</td>\n",
       "      <td>1.29</td>\n",
       "      <td>-94.0</td>\n",
       "      <td>167.0</td>\n",
       "      <td>56.416667</td>\n",
       "      <td>30.0</td>\n",
       "      <td>65.0</td>\n",
       "    </tr>\n",
       "    <tr>\n",
       "      <th>1882</th>\n",
       "      <td>2022-01-01</td>\n",
       "      <td>Tallahassee Running</td>\n",
       "      <td>7.316667</td>\n",
       "      <td>5.300000</td>\n",
       "      <td>7.00</td>\n",
       "      <td>593.0</td>\n",
       "      <td>136.000000</td>\n",
       "      <td>159.000000</td>\n",
       "      <td>175.0</td>\n",
       "      <td>186.0</td>\n",
       "      <td>801.0</td>\n",
       "      <td>863.0</td>\n",
       "      <td>1.26</td>\n",
       "      <td>-59.0</td>\n",
       "      <td>205.0</td>\n",
       "      <td>51.183333</td>\n",
       "      <td>61.5</td>\n",
       "      <td>79.0</td>\n",
       "    </tr>\n",
       "  </tbody>\n",
       "</table>\n",
       "<p>1883 rows × 18 columns</p>\n",
       "</div>"
      ],
      "text/plain": [
       "           Date                   Title  Avg Pace  Best Pace  Distance  \\\n",
       "0    2017-12-31     Sevierville Running  6.566667   5.983333     13.62   \n",
       "1    2017-12-30     Sevierville Running  7.100000   6.533333      5.83   \n",
       "2    2017-12-29     Sevierville Running  6.166667   5.350000      8.22   \n",
       "3    2017-12-29     Sevierville Running  6.950000   6.316667      1.97   \n",
       "4    2017-12-28      Moss Point Running  7.066667   6.383333      7.37   \n",
       "...         ...                     ...       ...        ...       ...   \n",
       "1878 2022-01-05      Starkville Running  6.950000   6.316667     11.50   \n",
       "1879 2022-01-04  Noxubee County Running  6.166667   4.483333     11.01   \n",
       "1880 2022-01-03      Starkville Running  6.866667   5.650000     15.01   \n",
       "1881 2022-01-02     Leon County Running  7.050000   5.716667      8.01   \n",
       "1882 2022-01-01     Tallahassee Running  7.316667   5.300000      7.00   \n",
       "\n",
       "      Calories      Avg HR      Max HR  Avg Run Cadence  Max Run Cadence  \\\n",
       "0       1462.0  179.348833  175.102791            175.0            187.0   \n",
       "1        631.0  151.453714  169.677584            176.0            191.0   \n",
       "2        881.0  163.870123  174.252760            176.0            191.0   \n",
       "3        209.0  139.974450  165.737706            174.0            191.0   \n",
       "4        797.0  156.137539  170.186633            173.0            185.0   \n",
       "...        ...         ...         ...              ...              ...   \n",
       "1878    1014.0  147.000000  163.000000            178.0            201.0   \n",
       "1879     851.0  145.000000  169.000000            183.0            232.0   \n",
       "1880    1349.0  148.000000  171.000000            179.0            190.0   \n",
       "1881     688.0  141.000000  156.000000            177.0            188.0   \n",
       "1882     593.0  136.000000  159.000000            175.0            186.0   \n",
       "\n",
       "      Total Ascent  Total Descent  Avg Stride Length  Min Elevation  \\\n",
       "0            381.0          425.0               1.40          958.0   \n",
       "1            169.0            9.0               1.29         1001.0   \n",
       "2            285.0          184.0               1.47          968.0   \n",
       "3             48.0          181.0               1.34         1028.0   \n",
       "4            182.0          195.0               1.32           64.0   \n",
       "...            ...            ...                ...            ...   \n",
       "1878         420.0          404.0               1.30          223.0   \n",
       "1879         289.0          246.0               1.42          130.0   \n",
       "1880         807.0          774.0               1.31           89.0   \n",
       "1881         810.0          978.0               1.29          -94.0   \n",
       "1882         801.0          863.0               1.26          -59.0   \n",
       "\n",
       "      Max Elevation  Total Run Time  Min Temp  Max Temp  \n",
       "0            1181.0       89.516667      22.0      46.0  \n",
       "1            1174.0       41.383333      27.0      49.0  \n",
       "2            1167.0       50.750000      28.0      44.0  \n",
       "3            1178.0       13.700000      28.0      44.0  \n",
       "4             135.0       52.066667      25.0      42.0  \n",
       "...             ...             ...       ...       ...  \n",
       "1878          402.0       79.966667      33.0      55.0  \n",
       "1879          201.0       67.800000      30.0      40.5  \n",
       "1880          243.0      103.116667      29.5      51.0  \n",
       "1881          167.0       56.416667      30.0      65.0  \n",
       "1882          205.0       51.183333      61.5      79.0  \n",
       "\n",
       "[1883 rows x 18 columns]"
      ]
     },
     "execution_count": 36,
     "metadata": {},
     "output_type": "execute_result"
    }
   ],
   "source": [
    "#Select predictive features from entire dataset\n",
    "X_full = df[['Avg Pace', 'Best Pace', 'Distance', 'Calories',\n",
    "       'Avg Run Cadence', 'Max Run Cadence',\n",
    "       'Total Ascent', 'Total Descent', 'Avg Stride Length', 'Min Elevation',\n",
    "       'Max Elevation', 'Total Run Time', 'Min Temp', 'Max Temp']].to_numpy()\n",
    "\n",
    "#Predict for all samples and infill rows that are missing values\n",
    "df['Max HR'] = df['Max HR'].combine_first(pd.Series(rfr_max.predict(kb_max.transform(X_full)).tolist()))\n",
    "df['Avg HR'] = df['Avg HR'].combine_first(pd.Series(lasso_avg.predict(kb_average.transform(X_full)).tolist()))\n",
    "\n",
    "df.to_csv('Running_Data_Clean.csv')\n",
    "df"
   ]
  },
  {
   "cell_type": "code",
   "execution_count": null,
   "metadata": {},
   "outputs": [],
   "source": []
  }
 ],
 "metadata": {
  "colab": {
   "authorship_tag": "ABX9TyM0wpRN/6k0zovF8DOKmZ6G",
   "provenance": []
  },
  "kernelspec": {
   "display_name": "Python 3",
   "language": "python",
   "name": "python3"
  },
  "language_info": {
   "codemirror_mode": {
    "name": "ipython",
    "version": 3
   },
   "file_extension": ".py",
   "mimetype": "text/x-python",
   "name": "python",
   "nbconvert_exporter": "python",
   "pygments_lexer": "ipython3",
   "version": "3.8.8"
  }
 },
 "nbformat": 4,
 "nbformat_minor": 1
}
