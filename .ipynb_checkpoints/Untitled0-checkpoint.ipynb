{
 "cells": [
  {
   "cell_type": "markdown",
   "metadata": {
    "id": "LoO5PWes1rOS"
   },
   "source": [
    "# Exploring my Running Data to Find my Most Grueling Run Ever (Based On Numbers of Course)\n",
    "Here I will be exploring my college running data from 2017 to 2022. I'm doing this as a sort of \"last horah\" now that I am offically a washed up runner with a cycling and snowboarding problem."
   ]
  },
  {
   "cell_type": "code",
   "execution_count": null,
   "metadata": {
    "colab": {
     "base_uri": "https://localhost:8080/"
    },
    "executionInfo": {
     "elapsed": 2879,
     "status": "ok",
     "timestamp": 1691965904295,
     "user": {
      "displayName": "Chandler Underwood",
      "userId": "04279858581485547936"
     },
     "user_tz": 360
    },
    "id": "qQMI2SxQz3pm",
    "outputId": "f4312b78-2cb9-471c-ea25-51670565c68f"
   },
   "outputs": [],
   "source": [
    "import pandas as pd\n",
    "from collections import Counter\n",
    "import seaborn as sns\n",
    "import statistics"
   ]
  },
  {
   "cell_type": "code",
   "execution_count": null,
   "metadata": {
    "executionInfo": {
     "elapsed": 95,
     "status": "ok",
     "timestamp": 1691965904296,
     "user": {
      "displayName": "Chandler Underwood",
      "userId": "04279858581485547936"
     },
     "user_tz": 360
    },
    "id": "MWQEFIFiz-FF"
   },
   "outputs": [],
   "source": [
    "data_path = \"Activities 20\"\n",
    "df = pd.read_csv(data_path + \"17.csv\")\n",
    "for i in range (18,23):\n",
    "  df = pd.concat([df, pd.read_csv(data_path + str(i) + \".csv\")])\n",
    "df = df.reset_index()"
   ]
  },
  {
   "cell_type": "code",
   "execution_count": null,
   "metadata": {
    "colab": {
     "base_uri": "https://localhost:8080/",
     "height": 508
    },
    "executionInfo": {
     "elapsed": 94,
     "status": "ok",
     "timestamp": 1691965904297,
     "user": {
      "displayName": "Chandler Underwood",
      "userId": "04279858581485547936"
     },
     "user_tz": 360
    },
    "id": "qPq5nrCB0XDf",
    "outputId": "08460326-b547-4397-96d6-0193301dc0d6"
   },
   "outputs": [],
   "source": [
    "df.head()"
   ]
  },
  {
   "cell_type": "markdown",
   "metadata": {
    "id": "6udtVo4j1NbL"
   },
   "source": [
    "## Feature Engineering\n",
    "\n",
    "Let's have a look at the columns we have in our dataset and decide which ones may be useful to explore."
   ]
  },
  {
   "cell_type": "code",
   "execution_count": null,
   "metadata": {
    "colab": {
     "base_uri": "https://localhost:8080/"
    },
    "executionInfo": {
     "elapsed": 91,
     "status": "ok",
     "timestamp": 1691965904299,
     "user": {
      "displayName": "Chandler Underwood",
      "userId": "04279858581485547936"
     },
     "user_tz": 360
    },
    "id": "cg3BO-y54Ied",
    "outputId": "afb4c6fc-ca21-48cf-a90a-0c3f6fa1b37f"
   },
   "outputs": [],
   "source": [
    "df.columns"
   ]
  },
  {
   "cell_type": "code",
   "execution_count": null,
   "metadata": {
    "colab": {
     "base_uri": "https://localhost:8080/"
    },
    "executionInfo": {
     "elapsed": 86,
     "status": "ok",
     "timestamp": 1691965904300,
     "user": {
      "displayName": "Chandler Underwood",
      "userId": "04279858581485547936"
     },
     "user_tz": 360
    },
    "id": "ZuaJDwws0_3d",
    "outputId": "b740a4a7-601b-4114-904d-7b2bf1d38022"
   },
   "outputs": [],
   "source": [
    "df.info()"
   ]
  },
  {
   "cell_type": "markdown",
   "metadata": {
    "id": "2vU3Xb0H1fs2"
   },
   "source": [
    "To give a good understanding of my running trends and eventually find the most grueling training week of my career, I want to focus on the distance, speed, elevation gain/loss, heart rate, cadence, and tempurature of my runs. I admitedly have quite a bit of domain knowledge when it comes to running, and these are oftentimes the most crucial stats for quantifying running performances. Let's clean up the columns contatining this data and drop the ones we don't need."
   ]
  },
  {
   "cell_type": "code",
   "execution_count": null,
   "metadata": {
    "colab": {
     "base_uri": "https://localhost:8080/"
    },
    "executionInfo": {
     "elapsed": 81,
     "status": "ok",
     "timestamp": 1691965904301,
     "user": {
      "displayName": "Chandler Underwood",
      "userId": "04279858581485547936"
     },
     "user_tz": 360
    },
    "id": "ycRy-APj2mip",
    "outputId": "99674ca4-7ff3-46c3-dacd-f2a3c4777244"
   },
   "outputs": [],
   "source": [
    "cols = ['Date', 'Title', 'Distance',\n",
    "       'Calories', 'Time', 'Avg HR', 'Max HR', 'Avg Run Cadence',\n",
    "       'Max Run Cadence', 'Avg Pace', 'Best Pace', 'Total Ascent',\n",
    "       'Total Descent', 'Avg Stride Length', 'Min Temp', 'Max Temp', 'Min Elevation',\n",
    "       'Max Elevation']\n",
    "cols_to_check = ['Calories', 'Total Ascent', 'Total Descent', 'Min Elevation', 'Max Elevation']\n",
    "df = df[cols]\n",
    "df[cols_to_check] = df[cols_to_check].replace({',':''}, regex=True)\n",
    "df = df.replace('--', None)"
   ]
  },
  {
   "cell_type": "code",
   "execution_count": null,
   "metadata": {
    "colab": {
     "base_uri": "https://localhost:8080/",
     "height": 870
    },
    "executionInfo": {
     "elapsed": 75,
     "status": "ok",
     "timestamp": 1691965904302,
     "user": {
      "displayName": "Chandler Underwood",
      "userId": "04279858581485547936"
     },
     "user_tz": 360
    },
    "id": "L-KRanxnaVHf",
    "outputId": "e62bc8a7-2f4b-4854-b764-7cc536f47044"
   },
   "outputs": [],
   "source": [
    "for col in cols_to_check:\n",
    "  med = statistics.median(df[col].dropna().astype(int))\n",
    "  df[col] = df[col].fillna(med).astype(int)\n",
    "df"
   ]
  },
  {
   "cell_type": "code",
   "execution_count": null,
   "metadata": {
    "colab": {
     "base_uri": "https://localhost:8080/"
    },
    "executionInfo": {
     "elapsed": 74,
     "status": "ok",
     "timestamp": 1691965904304,
     "user": {
      "displayName": "Chandler Underwood",
      "userId": "04279858581485547936"
     },
     "user_tz": 360
    },
    "id": "Qcrf-iHVa7RL",
    "outputId": "56d7a6fe-4463-4ad6-c381-ad842d8644dd"
   },
   "outputs": [],
   "source": [
    "df.info()"
   ]
  },
  {
   "cell_type": "markdown",
   "metadata": {
    "id": "p9mnS2s634rO"
   },
   "source": [
    "The first thing you may notice is some 0's in the *Avg HR, Max HR, Min Temp*, and *Max Temp* columns. This is because I didn't have a fancy watch with a heart rate monitor in the beginning of college. Easy fixes though!\n",
    "\n",
    "Let's see how many 0's we're looking at."
   ]
  },
  {
   "cell_type": "code",
   "execution_count": null,
   "metadata": {
    "colab": {
     "base_uri": "https://localhost:8080/"
    },
    "executionInfo": {
     "elapsed": 71,
     "status": "ok",
     "timestamp": 1691965904305,
     "user": {
      "displayName": "Chandler Underwood",
      "userId": "04279858581485547936"
     },
     "user_tz": 360
    },
    "id": "TEIB7R1133z4",
    "outputId": "a4aa84ef-88a7-4c88-8a55-168e3ec7dc08"
   },
   "outputs": [],
   "source": [
    "Counter(df['Max HR'])[0], Counter(df['Avg HR'])[0]"
   ]
  },
  {
   "cell_type": "code",
   "execution_count": null,
   "metadata": {
    "colab": {
     "base_uri": "https://localhost:8080/"
    },
    "executionInfo": {
     "elapsed": 67,
     "status": "ok",
     "timestamp": 1691965904306,
     "user": {
      "displayName": "Chandler Underwood",
      "userId": "04279858581485547936"
     },
     "user_tz": 360
    },
    "id": "tW48pSzr46ar",
    "outputId": "5f40cfb1-014f-4d91-9495-a5775d2fbbca"
   },
   "outputs": [],
   "source": [
    "Counter(df['Min Temp'])[0], Counter(df['Max Temp'])[0]"
   ]
  },
  {
   "cell_type": "markdown",
   "metadata": {
    "id": "ad9immlk5Jl8"
   },
   "source": [
    "### Filling in missing HR Data\n",
    "1,282 samples is a very large portion of the 1,975 total samples in our dataset, so we can't afford to throw those out. We have to find a systematic way to fill those in! Most running training programs follow a \"80/20\" rule where 80% of your training volume is done at easy paces while the other 20% is hard (i.e. running workouts)."
   ]
  },
  {
   "cell_type": "code",
   "execution_count": null,
   "metadata": {
    "executionInfo": {
     "elapsed": 66,
     "status": "ok",
     "timestamp": 1691965904308,
     "user": {
      "displayName": "Chandler Underwood",
      "userId": "04279858581485547936"
     },
     "user_tz": 360
    },
    "id": "eSXGCnpC6qag"
   },
   "outputs": [],
   "source": [
    "df_hr = df[df['Max HR'] > 0]"
   ]
  },
  {
   "cell_type": "markdown",
   "metadata": {
    "id": "NipbdICQ7O-Q"
   },
   "source": [
    "Somewhat counterintuitively the Avg Pace, Avg HR, and Avg Run Cadence won't help us too much in differenciating between my easy runs and workouts. This is because all running workouts involve some kind of recovery that is either much slower running between reps or complete rest. We need to look at the Max columns for these stats to find the runs that were workouts."
   ]
  },
  {
   "cell_type": "code",
   "execution_count": null,
   "metadata": {
    "colab": {
     "base_uri": "https://localhost:8080/"
    },
    "executionInfo": {
     "elapsed": 66,
     "status": "ok",
     "timestamp": 1691965904309,
     "user": {
      "displayName": "Chandler Underwood",
      "userId": "04279858581485547936"
     },
     "user_tz": 360
    },
    "id": "lcONXMNK8p8Y",
    "outputId": "eda5cae0-d6cc-4657-b349-db64f484fd70"
   },
   "outputs": [],
   "source": [
    "df_hr.info()"
   ]
  },
  {
   "cell_type": "code",
   "execution_count": null,
   "metadata": {
    "executionInfo": {
     "elapsed": 62,
     "status": "ok",
     "timestamp": 1691965904309,
     "user": {
      "displayName": "Chandler Underwood",
      "userId": "04279858581485547936"
     },
     "user_tz": 360
    },
    "id": "KkQtjxyb9oDi"
   },
   "outputs": [],
   "source": [
    "df_hr = df_hr.replace('--', None)\n",
    "df_hr = df_hr.dropna()"
   ]
  },
  {
   "cell_type": "code",
   "execution_count": null,
   "metadata": {
    "executionInfo": {
     "elapsed": 64,
     "status": "ok",
     "timestamp": 1691965904312,
     "user": {
      "displayName": "Chandler Underwood",
      "userId": "04279858581485547936"
     },
     "user_tz": 360
    },
    "id": "rsOu_1Yc7JCX"
   },
   "outputs": [],
   "source": [
    "df_hr['Best Pace'] = [(60 * int(x.split(':')[0]) + int(x.split(':')[1]))/60 for x in df_hr['Best Pace']]"
   ]
  },
  {
   "cell_type": "code",
   "execution_count": null,
   "metadata": {
    "colab": {
     "base_uri": "https://localhost:8080/"
    },
    "executionInfo": {
     "elapsed": 67,
     "status": "ok",
     "timestamp": 1691965904316,
     "user": {
      "displayName": "Chandler Underwood",
      "userId": "04279858581485547936"
     },
     "user_tz": 360
    },
    "id": "7U0d_PR3_Gv_",
    "outputId": "5d8fd1c4-1be3-4181-e0a9-e4c81c745d2d"
   },
   "outputs": [],
   "source": [
    "import numpy as np\n",
    "np.percentile(df_hr['Best Pace'], 25), np.percentile(df_hr['Max HR'], 80), np.percentile(df_hr['Max Run Cadence'], 75)"
   ]
  },
  {
   "cell_type": "code",
   "execution_count": null,
   "metadata": {
    "colab": {
     "base_uri": "https://localhost:8080/"
    },
    "executionInfo": {
     "elapsed": 67,
     "status": "ok",
     "timestamp": 1691965904319,
     "user": {
      "displayName": "Chandler Underwood",
      "userId": "04279858581485547936"
     },
     "user_tz": 360
    },
    "id": "V5NKlV4A-_H9",
    "outputId": "2c170ccf-6e5c-4f8d-f062-e589fa3e815f"
   },
   "outputs": [],
   "source": [
    "len(df_hr.loc[(df_hr['Best Pace'] <= np.percentile(df_hr['Best Pace'], 25)) & (df_hr['Max Run Cadence'] >= 199)]) / len(df_hr)"
   ]
  },
  {
   "cell_type": "markdown",
   "metadata": {
    "id": "V27taZfDCIPI"
   },
   "source": [
    "Stats we can use to infill 0's for workout runs."
   ]
  },
  {
   "cell_type": "code",
   "execution_count": null,
   "metadata": {
    "colab": {
     "base_uri": "https://localhost:8080/"
    },
    "executionInfo": {
     "elapsed": 65,
     "status": "ok",
     "timestamp": 1691965904320,
     "user": {
      "displayName": "Chandler Underwood",
      "userId": "04279858581485547936"
     },
     "user_tz": 360
    },
    "id": "vE7fyjS6BSdJ",
    "outputId": "2768b154-baf7-47f9-9e5f-c30d9769203c"
   },
   "outputs": [],
   "source": [
    "import statistics\n",
    "df_workouts = df_hr.loc[(df_hr['Best Pace'] <= np.percentile(df_hr['Best Pace'], 25)) & (df_hr['Max Run Cadence'] >= 199)]\n",
    "print(statistics.median(df_workouts['Avg HR']), statistics.median(df_workouts['Max HR']))\n",
    "avg_work_hr = statistics.median(df_workouts['Avg HR'])\n",
    "max_work_hr = statistics.median(df_workouts['Max HR'])"
   ]
  },
  {
   "cell_type": "markdown",
   "metadata": {
    "id": "BixbObZ9CXIX"
   },
   "source": [
    "Stats to fill in 0's for easy runs."
   ]
  },
  {
   "cell_type": "code",
   "execution_count": null,
   "metadata": {
    "colab": {
     "base_uri": "https://localhost:8080/"
    },
    "executionInfo": {
     "elapsed": 64,
     "status": "ok",
     "timestamp": 1691965904322,
     "user": {
      "displayName": "Chandler Underwood",
      "userId": "04279858581485547936"
     },
     "user_tz": 360
    },
    "id": "bwbb-jGBCO0m",
    "outputId": "0e21d429-df46-4bde-eb41-c01dc25ba6b0"
   },
   "outputs": [],
   "source": [
    "df_easy = df_hr.loc[(df_hr['Best Pace'] > np.percentile(df_hr['Best Pace'], 25)) & (df_hr['Max Run Cadence'] < 199)]\n",
    "print(statistics.median(df_easy['Avg HR']), statistics.median(df_easy['Max HR']))\n",
    "avg_easy_hr = statistics.median(df_easy['Avg HR'])\n",
    "max_easy_hr = statistics.median(df_easy['Max HR'])"
   ]
  },
  {
   "cell_type": "markdown",
   "metadata": {
    "id": "FZIhS2rzD3Tz"
   },
   "source": [
    "### Filling in Missing Tempurature Data\n",
    "\n",
    "The vast majority of my runs over the years have been done either at home in Hurley, MS or in Starkville, MS where I got my undergrad before moving to the Wild West. Garmin does not record GeoLocation data for runs; they only give a somewhat cryptic name for the run's location. Instead of trying to pull another dataset in containing weather data and joining based on location and date, let's compute some representative weather data using the dataset we already have.\n",
    "\n",
    "First, lets gather the samples I do have with tempurature columns that aren't null that occur in Mississippi."
   ]
  },
  {
   "cell_type": "code",
   "execution_count": null,
   "metadata": {
    "colab": {
     "base_uri": "https://localhost:8080/"
    },
    "executionInfo": {
     "elapsed": 62,
     "status": "ok",
     "timestamp": 1691965904323,
     "user": {
      "displayName": "Chandler Underwood",
      "userId": "04279858581485547936"
     },
     "user_tz": 360
    },
    "id": "0AdNV-FYGKYa",
    "outputId": "3ca869be-5482-4da5-856f-484b923a9d37"
   },
   "outputs": [],
   "source": [
    "Counter(df_hr['Title'])"
   ]
  },
  {
   "cell_type": "markdown",
   "metadata": {
    "id": "mcrgooIvE1A-"
   },
   "source": [
    "Any run title containing the word Starkville, Noxubee, Jackon, Oktibbeha, or Mobile either occured in my hometown or in my college town. Now we're gonna compute some representative tempuratures for the state for each of the four seasons to infill our missing tempurature data.  "
   ]
  },
  {
   "cell_type": "code",
   "execution_count": null,
   "metadata": {
    "executionInfo": {
     "elapsed": 60,
     "status": "ok",
     "timestamp": 1691965904324,
     "user": {
      "displayName": "Chandler Underwood",
      "userId": "04279858581485547936"
     },
     "user_tz": 360
    },
    "id": "zByZghL9E1nH"
   },
   "outputs": [],
   "source": [
    "df_weather = df_hr.loc[(df_hr[\"Title\"].str.contains(\"Starkville\")) | (df_hr[\"Title\"].str.contains(\"Noxubee\")) | (df_hr[\"Title\"].str.contains(\"Jackson\")) | (df_hr[\"Title\"].str.contains(\"Oktibbeha\")) | (df_hr[\"Title\"].str.contains(\"Mobile\"))]"
   ]
  },
  {
   "cell_type": "code",
   "execution_count": null,
   "metadata": {
    "colab": {
     "base_uri": "https://localhost:8080/",
     "height": 870
    },
    "executionInfo": {
     "elapsed": 61,
     "status": "ok",
     "timestamp": 1691965904326,
     "user": {
      "displayName": "Chandler Underwood",
      "userId": "04279858581485547936"
     },
     "user_tz": 360
    },
    "id": "XfATyjEZFaNg",
    "outputId": "309039f6-a8ef-4a67-df7c-179bc5611340"
   },
   "outputs": [],
   "source": [
    "df_weather"
   ]
  },
  {
   "cell_type": "code",
   "execution_count": null,
   "metadata": {
    "colab": {
     "base_uri": "https://localhost:8080/",
     "height": 974
    },
    "executionInfo": {
     "elapsed": 70,
     "status": "ok",
     "timestamp": 1691965904336,
     "user": {
      "displayName": "Chandler Underwood",
      "userId": "04279858581485547936"
     },
     "user_tz": 360
    },
    "id": "PR0Qf2KyF5_k",
    "outputId": "69f07d30-ddab-4b2c-e620-bb520080f0cc"
   },
   "outputs": [],
   "source": [
    "seasons = [1, 1, 2, 2, 2, 3, 3, 3, 4, 4, 4, 1]\n",
    "month_to_season = dict(zip(range(1,13), seasons))\n",
    "df_weather['Season'] = [month_to_season[x] for x in pd.to_datetime(df_weather['Date']).dt.month]\n",
    "df_weather"
   ]
  },
  {
   "cell_type": "code",
   "execution_count": null,
   "metadata": {
    "executionInfo": {
     "elapsed": 65,
     "status": "ok",
     "timestamp": 1691965904337,
     "user": {
      "displayName": "Chandler Underwood",
      "userId": "04279858581485547936"
     },
     "user_tz": 360
    },
    "id": "TdHJx8viJ3tz"
   },
   "outputs": [],
   "source": [
    "statistics.median(df_weather[df_weather['Season'] == 1]['Min Temp']), statistics.median(df_weather[df_weather['Season'] == 1]['Max Temp'])\n",
    "wint_min = statistics.median(df_weather[df_weather['Season'] == 1]['Min Temp'])\n",
    "wint_max = statistics.median(df_weather[df_weather['Season'] == 1]['Max Temp'])"
   ]
  },
  {
   "cell_type": "code",
   "execution_count": null,
   "metadata": {
    "executionInfo": {
     "elapsed": 453,
     "status": "ok",
     "timestamp": 1691965904726,
     "user": {
      "displayName": "Chandler Underwood",
      "userId": "04279858581485547936"
     },
     "user_tz": 360
    },
    "id": "b-CvEYqpKPkn"
   },
   "outputs": [],
   "source": [
    "statistics.median(df_weather[df_weather['Season'] == 2]['Min Temp']), statistics.median(df_weather[df_weather['Season'] == 2]['Max Temp'])\n",
    "spr_min = statistics.median(df_weather[df_weather['Season'] == 2]['Min Temp'])\n",
    "spr_max = statistics.median(df_weather[df_weather['Season'] == 2]['Max Temp'])"
   ]
  },
  {
   "cell_type": "code",
   "execution_count": null,
   "metadata": {
    "executionInfo": {
     "elapsed": 34,
     "status": "ok",
     "timestamp": 1691965904727,
     "user": {
      "displayName": "Chandler Underwood",
      "userId": "04279858581485547936"
     },
     "user_tz": 360
    },
    "id": "4y69_sALKSTe"
   },
   "outputs": [],
   "source": [
    "statistics.median(df_weather[df_weather['Season'] == 3]['Min Temp']), statistics.median(df_weather[df_weather['Season'] == 3]['Max Temp'])\n",
    "summ_min = statistics.median(df_weather[df_weather['Season'] == 3]['Min Temp'])\n",
    "summ_max = statistics.median(df_weather[df_weather['Season'] == 3]['Max Temp'])"
   ]
  },
  {
   "cell_type": "code",
   "execution_count": null,
   "metadata": {
    "executionInfo": {
     "elapsed": 33,
     "status": "ok",
     "timestamp": 1691965904727,
     "user": {
      "displayName": "Chandler Underwood",
      "userId": "04279858581485547936"
     },
     "user_tz": 360
    },
    "id": "ufuw2B4BKU7G"
   },
   "outputs": [],
   "source": [
    "statistics.median(df_weather[df_weather['Season'] == 4]['Min Temp']), statistics.median(df_weather[df_weather['Season'] == 4]['Max Temp'])\n",
    "fall_min = statistics.median(df_weather[df_weather['Season'] == 4]['Min Temp'])\n",
    "fall_max = statistics.median(df_weather[df_weather['Season'] == 4]['Max Temp'])"
   ]
  },
  {
   "cell_type": "code",
   "execution_count": null,
   "metadata": {
    "colab": {
     "base_uri": "https://localhost:8080/"
    },
    "executionInfo": {
     "elapsed": 32,
     "status": "ok",
     "timestamp": 1691965904727,
     "user": {
      "displayName": "Chandler Underwood",
      "userId": "04279858581485547936"
     },
     "user_tz": 360
    },
    "id": "3emADLxOQBXr",
    "outputId": "922147fe-a0e1-4955-9a5e-60ea7a5d12eb"
   },
   "outputs": [],
   "source": [
    "season_temp_min = {1:wint_min, 2:spr_min, 3:summ_min, 4:fall_min}\n",
    "season_temp_max= {1:wint_max, 2:spr_max, 3:summ_max, 4:fall_max}\n",
    "season_temp_min, season_temp_max"
   ]
  },
  {
   "cell_type": "markdown",
   "metadata": {
    "id": "8o02mwj-K6ju"
   },
   "source": [
    "### Fill in missing data on whole dataset"
   ]
  },
  {
   "cell_type": "code",
   "execution_count": null,
   "metadata": {
    "colab": {
     "base_uri": "https://localhost:8080/",
     "height": 870
    },
    "executionInfo": {
     "elapsed": 27,
     "status": "ok",
     "timestamp": 1691965904728,
     "user": {
      "displayName": "Chandler Underwood",
      "userId": "04279858581485547936"
     },
     "user_tz": 360
    },
    "id": "y0ZO4703Ced_",
    "outputId": "23acd3f4-074c-44c2-da12-1b0df23b8327"
   },
   "outputs": [],
   "source": [
    "df = df.replace(0, None)\n",
    "df"
   ]
  },
  {
   "cell_type": "code",
   "execution_count": null,
   "metadata": {
    "executionInfo": {
     "elapsed": 25,
     "status": "ok",
     "timestamp": 1691965904728,
     "user": {
      "displayName": "Chandler Underwood",
      "userId": "04279858581485547936"
     },
     "user_tz": 360
    },
    "id": "w1ptJG9CNf4R"
   },
   "outputs": [],
   "source": [
    "df['Max Run Cadence'] = df['Max Run Cadence'].fillna(statistics.mean(df.dropna()['Max Run Cadence'].astype(int)))"
   ]
  },
  {
   "cell_type": "code",
   "execution_count": null,
   "metadata": {
    "executionInfo": {
     "elapsed": 26,
     "status": "ok",
     "timestamp": 1691965904729,
     "user": {
      "displayName": "Chandler Underwood",
      "userId": "04279858581485547936"
     },
     "user_tz": 360
    },
    "id": "2RlnDIQCOjfc"
   },
   "outputs": [],
   "source": [
    "df = pd.DataFrame(df.drop(df.loc[df['Best Pace'].isna()].index).reset_index())\n",
    "df = pd.DataFrame(df.drop(df.loc[df['Avg Pace'].isna()].index).reset_index())"
   ]
  },
  {
   "cell_type": "code",
   "execution_count": null,
   "metadata": {
    "colab": {
     "base_uri": "https://localhost:8080/",
     "height": 870
    },
    "executionInfo": {
     "elapsed": 28,
     "status": "ok",
     "timestamp": 1691965904732,
     "user": {
      "displayName": "Chandler Underwood",
      "userId": "04279858581485547936"
     },
     "user_tz": 360
    },
    "id": "G2FayiS1O_GM",
    "outputId": "b8ec59a1-6d89-42ae-be63-e8b78d78e7dc"
   },
   "outputs": [],
   "source": [
    "df"
   ]
  },
  {
   "cell_type": "code",
   "execution_count": null,
   "metadata": {
    "colab": {
     "base_uri": "https://localhost:8080/",
     "height": 870
    },
    "executionInfo": {
     "elapsed": 28,
     "status": "ok",
     "timestamp": 1691965904733,
     "user": {
      "displayName": "Chandler Underwood",
      "userId": "04279858581485547936"
     },
     "user_tz": 360
    },
    "id": "F9Ul1z6bLT4_",
    "outputId": "512ef798-7681-4e49-9128-dab6b07eb342"
   },
   "outputs": [],
   "source": [
    "df['Best Pace'] = [(60 * int(x.split(':')[0]) + int(x.split(':')[1]))/60 for x in df['Best Pace']]\n",
    "df['Avg Pace'] = [(60 * int(x.split(':')[0]) + int(x.split(':')[1]))/60 for x in df['Avg Pace']]\n",
    "df.loc[(df['Max HR'].isna()) & (df['Best Pace'] <= np.percentile(df['Best Pace'], 25)) & (df['Max Run Cadence'].astype(int) >= 199), ['Max HR']]= max_work_hr\n",
    "df.loc[(df['Avg HR'].isna()) & (df['Best Pace'] <= np.percentile(df['Best Pace'], 25)) & (df['Max Run Cadence'].astype(int) >= 199), ['Avg HR']] = avg_work_hr\n",
    "df.loc[(df['Max HR'].isna()) & (df['Best Pace'] > np.percentile(df['Best Pace'], 25)) & (df['Max Run Cadence'].astype(int) < 199), ['Max HR']]= max_easy_hr\n",
    "df.loc[(df['Avg HR'].isna()) & (df['Best Pace'] > np.percentile(df['Best Pace'], 25)) & (df['Max Run Cadence'].astype(int) < 199), ['Avg HR']] = avg_easy_hr\n",
    "df"
   ]
  },
  {
   "cell_type": "code",
   "execution_count": null,
   "metadata": {
    "executionInfo": {
     "elapsed": 4382,
     "status": "ok",
     "timestamp": 1691965909089,
     "user": {
      "displayName": "Chandler Underwood",
      "userId": "04279858581485547936"
     },
     "user_tz": 360
    },
    "id": "4ZLhWNj3PrMv"
   },
   "outputs": [],
   "source": [
    "df['Season'] = [month_to_season[x] for x in pd.to_datetime(df['Date']).dt.month]\n",
    "for i in range(len(df)):\n",
    "  if df.loc[i]['Min Temp'] == None:\n",
    "    df.loc[i, ['Min Temp']] = season_temp_min[df.loc[i]['Season']]\n",
    "\n",
    "for i in range(len(df)):\n",
    "  if df.loc[i]['Max Temp'] == None:\n",
    "    df.loc[i, ['Max Temp']] = season_temp_max[df.loc[i]['Season']]"
   ]
  },
  {
   "cell_type": "code",
   "execution_count": null,
   "metadata": {
    "colab": {
     "base_uri": "https://localhost:8080/",
     "height": 870
    },
    "executionInfo": {
     "elapsed": 32,
     "status": "ok",
     "timestamp": 1691965909090,
     "user": {
      "displayName": "Chandler Underwood",
      "userId": "04279858581485547936"
     },
     "user_tz": 360
    },
    "id": "-8slW-e7Sz2P",
    "outputId": "14f7db0d-6e1c-4c15-9ae0-6f466a43e54b"
   },
   "outputs": [],
   "source": [
    "df"
   ]
  },
  {
   "cell_type": "code",
   "execution_count": null,
   "metadata": {
    "colab": {
     "base_uri": "https://localhost:8080/",
     "height": 870
    },
    "executionInfo": {
     "elapsed": 29,
     "status": "ok",
     "timestamp": 1691965909091,
     "user": {
      "displayName": "Chandler Underwood",
      "userId": "04279858581485547936"
     },
     "user_tz": 360
    },
    "id": "VQcfGUjocHws",
    "outputId": "9375b116-3b2f-4419-c510-1a5eaf21e068"
   },
   "outputs": [],
   "source": [
    "df.loc[df['Avg HR'].isna()]"
   ]
  },
  {
   "cell_type": "markdown",
   "metadata": {
    "id": "dpbdOHes1cJX"
   },
   "source": [
    "## Totals\n",
    "Let's have a look at some overall stats from my college running days before we get a bit more granular."
   ]
  },
  {
   "cell_type": "code",
   "execution_count": null,
   "metadata": {
    "colab": {
     "base_uri": "https://localhost:8080/"
    },
    "executionInfo": {
     "elapsed": 30,
     "status": "ok",
     "timestamp": 1691965909093,
     "user": {
      "displayName": "Chandler Underwood",
      "userId": "04279858581485547936"
     },
     "user_tz": 360
    },
    "id": "TYr9BowA3lIU",
    "outputId": "8b59e6b7-5137-45db-a2f5-8f15ae95f2c6"
   },
   "outputs": [],
   "source": [
    "sum(df['Distance'])"
   ]
  },
  {
   "cell_type": "code",
   "execution_count": null,
   "metadata": {
    "colab": {
     "base_uri": "https://localhost:8080/",
     "height": 262
    },
    "executionInfo": {
     "elapsed": 26,
     "status": "error",
     "timestamp": 1691965909093,
     "user": {
      "displayName": "Chandler Underwood",
      "userId": "04279858581485547936"
     },
     "user_tz": 360
    },
    "id": "WpVI22mm3q6h",
    "outputId": "bfaf27f6-9f0f-4b89-bd4d-b2eb7d69a920"
   },
   "outputs": [],
   "source": [
    "df['Calories'] = [x.replace(',','') for x in df['Calories']]\n",
    "sum(df['Calories'].astype(int))"
   ]
  },
  {
   "cell_type": "code",
   "execution_count": null,
   "metadata": {
    "executionInfo": {
     "elapsed": 403,
     "status": "ok",
     "timestamp": 1691966078017,
     "user": {
      "displayName": "Chandler Underwood",
      "userId": "04279858581485547936"
     },
     "user_tz": 360
    },
    "id": "VixELAiUCiLu"
   },
   "outputs": [],
   "source": [
    "df['Time Minutes'] = [60 * int(x.split(':')[0]) + int(x.split(':')[1]) for x in df['Time']]"
   ]
  },
  {
   "cell_type": "code",
   "execution_count": null,
   "metadata": {
    "colab": {
     "base_uri": "https://localhost:8080/"
    },
    "executionInfo": {
     "elapsed": 11,
     "status": "ok",
     "timestamp": 1691966078373,
     "user": {
      "displayName": "Chandler Underwood",
      "userId": "04279858581485547936"
     },
     "user_tz": 360
    },
    "id": "utXxdOFxDAmH",
    "outputId": "eaad468a-9080-4ac9-a8c1-e8041db2af3f"
   },
   "outputs": [],
   "source": [
    "df['Avg Run Cadence'] * df['Time Minutes']"
   ]
  },
  {
   "cell_type": "code",
   "execution_count": null,
   "metadata": {
    "colab": {
     "base_uri": "https://localhost:8080/"
    },
    "executionInfo": {
     "elapsed": 9,
     "status": "ok",
     "timestamp": 1691966078865,
     "user": {
      "displayName": "Chandler Underwood",
      "userId": "04279858581485547936"
     },
     "user_tz": 360
    },
    "id": "P9-racDjDVg_",
    "outputId": "73262487-8a9c-4202-927c-2f8af6f3ec10"
   },
   "outputs": [],
   "source": [
    "import statistics\n",
    "statistics.median(df['Distance'])"
   ]
  },
  {
   "cell_type": "code",
   "execution_count": null,
   "metadata": {
    "colab": {
     "base_uri": "https://localhost:8080/"
    },
    "executionInfo": {
     "elapsed": 3,
     "status": "ok",
     "timestamp": 1691966080331,
     "user": {
      "displayName": "Chandler Underwood",
      "userId": "04279858581485547936"
     },
     "user_tz": 360
    },
    "id": "HXVXRvyMD7Xn",
    "outputId": "8172536d-0136-443b-9c2c-96a200905700"
   },
   "outputs": [],
   "source": [
    "statistics.mean(df['Distance'])"
   ]
  },
  {
   "cell_type": "code",
   "execution_count": null,
   "metadata": {
    "colab": {
     "base_uri": "https://localhost:8080/"
    },
    "executionInfo": {
     "elapsed": 6,
     "status": "ok",
     "timestamp": 1691966083045,
     "user": {
      "displayName": "Chandler Underwood",
      "userId": "04279858581485547936"
     },
     "user_tz": 360
    },
    "id": "1UfMGZbUEALU",
    "outputId": "66c3eca3-8060-4605-90e7-ed797cc1d500"
   },
   "outputs": [],
   "source": [
    "max(df['Distance'])"
   ]
  },
  {
   "cell_type": "code",
   "execution_count": null,
   "metadata": {
    "colab": {
     "base_uri": "https://localhost:8080/"
    },
    "executionInfo": {
     "elapsed": 3,
     "status": "ok",
     "timestamp": 1691966083367,
     "user": {
      "displayName": "Chandler Underwood",
      "userId": "04279858581485547936"
     },
     "user_tz": 360
    },
    "id": "lyzlEa2MEEyU",
    "outputId": "7e3cd31a-e2b1-4197-c65f-91f16099cf66"
   },
   "outputs": [],
   "source": [
    "min(df['Distance'])"
   ]
  },
  {
   "cell_type": "code",
   "execution_count": null,
   "metadata": {
    "colab": {
     "base_uri": "https://localhost:8080/"
    },
    "executionInfo": {
     "elapsed": 7,
     "status": "ok",
     "timestamp": 1691966083703,
     "user": {
      "displayName": "Chandler Underwood",
      "userId": "04279858581485547936"
     },
     "user_tz": 360
    },
    "id": "fmTkiJncEG4F",
    "outputId": "f7964abc-0e3e-456f-c6d8-3539c5e3b09e"
   },
   "outputs": [],
   "source": [
    "len(df)"
   ]
  },
  {
   "cell_type": "markdown",
   "metadata": {
    "id": "VflvWcZuEqsc"
   },
   "source": [
    "## Stats by Week"
   ]
  },
  {
   "cell_type": "code",
   "execution_count": null,
   "metadata": {
    "executionInfo": {
     "elapsed": 450,
     "status": "ok",
     "timestamp": 1691966092105,
     "user": {
      "displayName": "Chandler Underwood",
      "userId": "04279858581485547936"
     },
     "user_tz": 360
    },
    "id": "oUtaRrH4EqWd"
   },
   "outputs": [],
   "source": [
    "df['Date'] = pd.to_datetime(df['Date']) - pd.to_timedelta(7, unit='d')"
   ]
  },
  {
   "cell_type": "code",
   "execution_count": null,
   "metadata": {
    "colab": {
     "base_uri": "https://localhost:8080/",
     "height": 447
    },
    "executionInfo": {
     "elapsed": 11,
     "status": "ok",
     "timestamp": 1691966092449,
     "user": {
      "displayName": "Chandler Underwood",
      "userId": "04279858581485547936"
     },
     "user_tz": 360
    },
    "id": "J4Pg4q7vFrrq",
    "outputId": "3e7c0a8f-d9cf-4b63-fc30-ce7572fa2fb1"
   },
   "outputs": [],
   "source": [
    "sns.histplot(pd.DataFrame(df.groupby([pd.Grouper(key='Date', freq='W')])['Distance'].sum()).reset_index())"
   ]
  },
  {
   "cell_type": "code",
   "execution_count": null,
   "metadata": {
    "colab": {
     "base_uri": "https://localhost:8080/",
     "height": 447
    },
    "executionInfo": {
     "elapsed": 555,
     "status": "ok",
     "timestamp": 1691966093326,
     "user": {
      "displayName": "Chandler Underwood",
      "userId": "04279858581485547936"
     },
     "user_tz": 360
    },
    "id": "EG2AmM9OGXrl",
    "outputId": "d300e5dd-6c00-4262-a332-9e4e23dd2c5d"
   },
   "outputs": [],
   "source": [
    "sns.histplot(pd.DataFrame(df.groupby([pd.Grouper(key='Date', freq='W')])['Avg Pace'].mean()).reset_index())"
   ]
  },
  {
   "cell_type": "code",
   "execution_count": null,
   "metadata": {
    "colab": {
     "base_uri": "https://localhost:8080/",
     "height": 523
    },
    "executionInfo": {
     "elapsed": 455,
     "status": "ok",
     "timestamp": 1691966093766,
     "user": {
      "displayName": "Chandler Underwood",
      "userId": "04279858581485547936"
     },
     "user_tz": 360
    },
    "id": "caXBVILwu5ND",
    "outputId": "8cc0507d-2092-4bdf-c708-b94147a34089"
   },
   "outputs": [],
   "source": [
    "sns.displot(data = df[['Distance', 'Season']], y = 'Distance', x = 'Season')"
   ]
  },
  {
   "cell_type": "code",
   "execution_count": null,
   "metadata": {
    "colab": {
     "base_uri": "https://localhost:8080/",
     "height": 523
    },
    "executionInfo": {
     "elapsed": 19,
     "status": "ok",
     "timestamp": 1691966093767,
     "user": {
      "displayName": "Chandler Underwood",
      "userId": "04279858581485547936"
     },
     "user_tz": 360
    },
    "id": "1Z_vsdswwLS0",
    "outputId": "b91fc04f-aa43-419e-a4c0-c42a5cda1465"
   },
   "outputs": [],
   "source": [
    "sns.displot(data = df[['Best Pace', 'Season']], y = 'Best Pace', x = 'Season')"
   ]
  },
  {
   "cell_type": "markdown",
   "metadata": {
    "id": "9PWpQGhaxRLg"
   },
   "source": [
    "## Worst Week Ever"
   ]
  },
  {
   "cell_type": "code",
   "execution_count": null,
   "metadata": {
    "executionInfo": {
     "elapsed": 37,
     "status": "aborted",
     "timestamp": 1691965909109,
     "user": {
      "displayName": "Chandler Underwood",
      "userId": "04279858581485547936"
     },
     "user_tz": 360
    },
    "id": "AxcwE04gx2hd"
   },
   "outputs": [],
   "source": [
    "df.loc[df['Total Ascent'].isna(), ['Total Ascent']] = statistics.median(df['Total Ascent'].dropna().astype(int))"
   ]
  },
  {
   "cell_type": "code",
   "execution_count": null,
   "metadata": {
    "executionInfo": {
     "elapsed": 38,
     "status": "aborted",
     "timestamp": 1691965909110,
     "user": {
      "displayName": "Chandler Underwood",
      "userId": "04279858581485547936"
     },
     "user_tz": 360
    },
    "id": "7fbTdfgRxUiN"
   },
   "outputs": [],
   "source": [
    "plt = pd.DataFrame(df.groupby([pd.Grouper(key='Date', freq='W')])['Distance'].sum())\n",
    "plt = plt.merge(df.groupby([pd.Grouper(key='Date', freq='W')])['Avg Pace'].mean(), on = 'Date')\n",
    "plt"
   ]
  },
  {
   "cell_type": "markdown",
   "metadata": {
    "id": "Q4N8iud5zz41"
   },
   "source": [
    "## Fitness Trends"
   ]
  },
  {
   "cell_type": "code",
   "execution_count": null,
   "metadata": {
    "executionInfo": {
     "elapsed": 39,
     "status": "aborted",
     "timestamp": 1691965909111,
     "user": {
      "displayName": "Chandler Underwood",
      "userId": "04279858581485547936"
     },
     "user_tz": 360
    },
    "id": "kIJm2GepE7wz"
   },
   "outputs": [],
   "source": [
    "sns.lineplot(data = plot, y = plot['Distance'], x = pd.to_datetime(plot['Date']))"
   ]
  },
  {
   "cell_type": "code",
   "execution_count": null,
   "metadata": {
    "executionInfo": {
     "elapsed": 42,
     "status": "aborted",
     "timestamp": 1691965909114,
     "user": {
      "displayName": "Chandler Underwood",
      "userId": "04279858581485547936"
     },
     "user_tz": 360
    },
    "id": "uLIpsyXVnu6q"
   },
   "outputs": [],
   "source": [
    "sns.lineplot(df['PPM Avg Seconds'])"
   ]
  },
  {
   "cell_type": "code",
   "execution_count": null,
   "metadata": {
    "executionInfo": {
     "elapsed": 44,
     "status": "aborted",
     "timestamp": 1691965909116,
     "user": {
      "displayName": "Chandler Underwood",
      "userId": "04279858581485547936"
     },
     "user_tz": 360
    },
    "id": "6ooTiitQpTco"
   },
   "outputs": [],
   "source": [
    "sns.lineplot(df['PPM Seconds'])"
   ]
  },
  {
   "cell_type": "code",
   "execution_count": null,
   "metadata": {
    "executionInfo": {
     "elapsed": 48,
     "status": "aborted",
     "timestamp": 1691965909120,
     "user": {
      "displayName": "Chandler Underwood",
      "userId": "04279858581485547936"
     },
     "user_tz": 360
    },
    "id": "xZhg3pgkzy8u"
   },
   "outputs": [],
   "source": [
    "sns.lineplot(df[df['Avg HR'] > 0]['Avg HR'])"
   ]
  },
  {
   "cell_type": "code",
   "execution_count": null,
   "metadata": {
    "executionInfo": {
     "elapsed": 48,
     "status": "aborted",
     "timestamp": 1691965909121,
     "user": {
      "displayName": "Chandler Underwood",
      "userId": "04279858581485547936"
     },
     "user_tz": 360
    },
    "id": "3vnaObpSz8Xx"
   },
   "outputs": [],
   "source": [
    "from collections import Counter\n"
   ]
  },
  {
   "cell_type": "code",
   "execution_count": null,
   "metadata": {
    "executionInfo": {
     "elapsed": 49,
     "status": "aborted",
     "timestamp": 1691965909122,
     "user": {
      "displayName": "Chandler Underwood",
      "userId": "04279858581485547936"
     },
     "user_tz": 360
    },
    "id": "BGnIV3PK0BTr"
   },
   "outputs": [],
   "source": []
  }
 ],
 "metadata": {
  "colab": {
   "authorship_tag": "ABX9TyNNbimAyO5ac5/Q4rcq0zwA",
   "provenance": []
  },
  "kernelspec": {
   "display_name": "Python 3",
   "language": "python",
   "name": "python3"
  },
  "language_info": {
   "codemirror_mode": {
    "name": "ipython",
    "version": 3
   },
   "file_extension": ".py",
   "mimetype": "text/x-python",
   "name": "python",
   "nbconvert_exporter": "python",
   "pygments_lexer": "ipython3",
   "version": "3.8.8"
  }
 },
 "nbformat": 4,
 "nbformat_minor": 1
}
